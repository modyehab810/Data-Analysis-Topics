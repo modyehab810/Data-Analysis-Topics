{
 "cells": [
  {
   "cell_type": "markdown",
   "id": "d2d27e6f",
   "metadata": {},
   "source": [
    "# Sampling Techniques"
   ]
  },
  {
   "cell_type": "markdown",
   "id": "3872451f",
   "metadata": {},
   "source": [
    "is the process of studying the population by gathering information and analyzing that data. It is the basis of the data where the sample space is enormous"
   ]
  },
  {
   "cell_type": "markdown",
   "id": "c093775b",
   "metadata": {},
   "source": [
    "## • Probability Sampling"
   ]
  },
  {
   "cell_type": "markdown",
   "id": "d1464ed2",
   "metadata": {},
   "source": [
    "#### 1) Simple Random Sampling"
   ]
  },
  {
   "cell_type": "markdown",
   "id": "c12be609",
   "metadata": {},
   "source": [
    "In this method, each member of the population has an equal and independent chance of being selected.\n",
    "This is often done using `random number generators`.\n",
    "Simple random sampling is considered the most `unbiased method`.\n",
    "this method is known as `Method of chance Selection`. Because the sample size is large."
   ]
  },
  {
   "cell_type": "markdown",
   "id": "a2f022a8",
   "metadata": {},
   "source": [
    "#### 2) Systematic Sampling"
   ]
  },
  {
   "cell_type": "markdown",
   "id": "dbd6d2bd",
   "metadata": {},
   "source": [
    "Systematic sampling involves selecting every \"kth\" element from the population. The first element is chosen randomly, and then every \"kth\" element is selected. This method is simple and efficient when there is a list of the population."
   ]
  },
  {
   "cell_type": "markdown",
   "id": "d92c70a2",
   "metadata": {},
   "source": [
    "#### 3) Stratified Sampling"
   ]
  },
  {
   "cell_type": "markdown",
   "id": "b377f120",
   "metadata": {},
   "source": [
    "This method divides the population into subgroups or strata based on certain characteristics (e.g., age, gender, income), and then a random sample is taken from each stratum. This ensures representation from each subgroup and is useful when there are significant differences within the population."
   ]
  },
  {
   "cell_type": "markdown",
   "id": "f4f1718b",
   "metadata": {},
   "source": [
    "#### 4) Clustered Sampling"
   ]
  },
  {
   "cell_type": "markdown",
   "id": "4dab7d6a",
   "metadata": {},
   "source": [
    "In the clustered sampling method, the cluster or group of people are formed from the population set. The group has similar significatory characteristics. Also, they have an equal chance of being a part of the sample. This method uses simple random sampling for the cluster of population."
   ]
  },
  {
   "cell_type": "markdown",
   "id": "51070341",
   "metadata": {},
   "source": [
    "## • Non-Probability Sampling"
   ]
  },
  {
   "cell_type": "markdown",
   "id": "2e286f6f",
   "metadata": {},
   "source": [
    "The non-probability sampling method is a technique in which the researcher selects the sample based on subjective judgment rather than the random selection. In this method, not all the members of the population have a chance to participate in the study."
   ]
  }
 ],
 "metadata": {
  "kernelspec": {
   "display_name": "Python 3 (ipykernel)",
   "language": "python",
   "name": "python3"
  },
  "language_info": {
   "codemirror_mode": {
    "name": "ipython",
    "version": 3
   },
   "file_extension": ".py",
   "mimetype": "text/x-python",
   "name": "python",
   "nbconvert_exporter": "python",
   "pygments_lexer": "ipython3",
   "version": "3.10.9"
  }
 },
 "nbformat": 4,
 "nbformat_minor": 5
}
