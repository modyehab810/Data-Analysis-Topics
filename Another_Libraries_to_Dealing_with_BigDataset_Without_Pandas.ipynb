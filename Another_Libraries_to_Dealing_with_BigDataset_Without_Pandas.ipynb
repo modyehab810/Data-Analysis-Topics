{
  "nbformat": 4,
  "nbformat_minor": 0,
  "metadata": {
    "colab": {
      "provenance": []
    },
    "kernelspec": {
      "name": "python3",
      "display_name": "Python 3"
    },
    "language_info": {
      "name": "python"
    }
  },
  "cells": [
    {
      "cell_type": "markdown",
      "source": [
        "# **Libraries That Dealing With Big Data Insted of <del>Pandas<del>**"
      ],
      "metadata": {
        "id": "LdcSfyCyZv0Y"
      }
    },
    {
      "cell_type": "markdown",
      "source": [
        "## **Dask**\n",
        "\n",
        "\n",
        "*   Dask is one of the most popular alternatives for big data analysis. It's designed to parallelize and distribute computations, making it suitable for larger-than-memory datasets.\n",
        "\n",
        "*   Dask provides Dask DataFrames, which have a similar API to Pandas but can handle datasets that don't fit into memory by breaking them into smaller, manageable chunks\n",
        "\n"
      ],
      "metadata": {
        "id": "FBeZdddYX3RY"
      }
    },
    {
      "cell_type": "markdown",
      "source": [
        "## **Apache Spark**\n",
        "\n",
        "\n",
        "*   Apache Spark is a powerful open-source data processing framework that can handle big data. While not a Python library, PySpark, the Python API for Spark, allows you to leverage Spark's distributed computing capabilities for data analysis.\n",
        "\n",
        "*  Spark is well-suited for batch processing, real-time streaming, machine learning, and graph processing.\n",
        "\n"
      ],
      "metadata": {
        "id": "OdlVXoniYL-x"
      }
    },
    {
      "cell_type": "markdown",
      "source": [
        "# **♣ Modin**\n",
        "\n",
        "\n",
        "*   Modin is designed as a drop-in replacement for Pandas, but it leverages parallel and distributed computing to handle larger datasets efficiently.\n",
        "\n",
        "*   It automatically accelerates Pandas operations by using multiple CPU cores.\n",
        "\n"
      ],
      "metadata": {
        "id": "RkVOWEH9YNFh"
      }
    },
    {
      "cell_type": "markdown",
      "source": [
        "# **♠ Vaex**\n",
        "\n",
        "\n",
        "*   Vaex is not only suitable for out-of-core DataFrames but also for big data analysis. It's optimized for speed and memory efficiency and is designed to work well with large datasets.\n",
        "\n"
      ],
      "metadata": {
        "id": "GeWu7od0Yeio"
      }
    },
    {
      "cell_type": "markdown",
      "source": [
        "# **♠ Koalas**\n",
        "\n",
        "\n",
        "*   Koalas is a Python library that aims to provide a similar API to Pandas but with the ability to scale to big data using Apache Spark as the backend. It's particularly useful if you're already familiar with Pandas.\n",
        "\n"
      ],
      "metadata": {
        "id": "8OandOrdYeqA"
      }
    },
    {
      "cell_type": "markdown",
      "source": [
        "## **♠ Polars**\n",
        "\n",
        "\n",
        "*   Polars is a Rust-based DataFrame library with Python bindings. It's designed for high performance and can handle big data efficiently\n",
        "\n"
      ],
      "metadata": {
        "id": "WgkPw9CtYeuR"
      }
    }
  ]
}